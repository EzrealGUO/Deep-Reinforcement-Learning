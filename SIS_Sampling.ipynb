{
 "cells": [
  {
   "cell_type": "markdown",
   "metadata": {},
   "source": [
    "# Sequential Monte Carlo - Sequential Importance Sampling"
   ]
  },
  {
   "cell_type": "code",
   "execution_count": null,
   "metadata": {},
   "outputs": [],
   "source": [
    "%matplotlib inline\n",
    "import matplotlib as mpl\n",
    "import matplotlib.pyplot as plt\n",
    "import seaborn as sns; sns.set()\n",
    "import numpy as np\n",
    "from matplotlib import cm\n",
    "from mpl_toolkits.mplot3d import Axes3D\n",
    "from matplotlib.colors import LogNorm\n",
    "import random\n",
    "%matplotlib inline\n",
    "from matplotlib import animation, rc\n",
    "from IPython.display import HTML\n",
    "from cycler import cycler\n",
    "from sklearn.metrics import mean_squared_error\n",
    "\n",
    "import numpy as np\n",
    "import scipy as sp\n",
    "import pandas as pd\n",
    "import matplotlib.pyplot as plt\n",
    "import seaborn as sns\n",
    "\n",
    "from scipy.stats import norm"
   ]
  },
  {
   "cell_type": "code",
   "execution_count": null,
   "metadata": {},
   "outputs": [],
   "source": [
    "fontsize = 40\n",
    "scattersize=100\n",
    "surf_labelpad = 50.\n",
    "\n",
    "plt.style.use(\"seaborn\")\n",
    "plt.rcParams.update({'figure.figsize': (20,15), 'font.size': fontsize, 'axes.labelsize': fontsize, 'axes.labelpad': 15., 'text.usetex':True, 'xtick.labelsize': fontsize, 'xtick.major.pad': 20., 'ytick.labelsize': fontsize, 'ytick.major.pad': 20., })\n",
    "\n",
    "colors = ['firebrick', 'navy', 'darkorange', 'olivedrab', 'cornflowerblue']\n"
   ]
  },
  {
   "cell_type": "code",
   "execution_count": null,
   "metadata": {},
   "outputs": [],
   "source": [
    "rng = np.random.RandomState(26)"
   ]
  },
  {
   "cell_type": "markdown",
   "metadata": {},
   "source": [
    "## Illustration of Importance Sampling"
   ]
  },
  {
   "cell_type": "code",
   "execution_count": null,
   "metadata": {},
   "outputs": [],
   "source": [
    "def p(x):\n",
    "    return 0.3*sp.stats.norm.pdf(x, loc=30, scale=10) + 0.7*sp.stats.norm.pdf(x, loc=80, scale=20)\n",
    "\n",
    "\n",
    "def q(x):\n",
    "    return sp.stats.norm.pdf(x, loc=50, scale=30)"
   ]
  },
  {
   "cell_type": "code",
   "execution_count": null,
   "metadata": {},
   "outputs": [],
   "source": [
    "x = np.arange(-50, 151)\n",
    "ylim = max(q(x)) \n",
    "ylim += ylim*0.2\n",
    "\n",
    "colors = ['darkorange', 'navy', 'cornflowerblue']\n",
    "\n",
    "fig, ax = plt.subplots()\n",
    "plt.plot(x, p(x), color=colors[0], label='Target pdf, $p(z)$')\n",
    "plt.legend(fontsize=fontsize, loc='upper left')\n",
    "plt.xlabel('$z$')\n",
    "plt.ylabel('Probability density')\n",
    "ax.set_ylim(0,ylim)\n",
    "plt.show()"
   ]
  },
  {
   "cell_type": "code",
   "execution_count": null,
   "metadata": {},
   "outputs": [],
   "source": [
    "fig, ax = plt.subplots()\n",
    "plt.plot(x, p(x), color=colors[0], label='Target pdf, $p(z)$')\n",
    "plt.plot(x, q(x), color=colors[1], label='Proposal pdf, $q(z)$')\n",
    "plt.xlabel('$z$')\n",
    "plt.ylabel('Probability density')\n",
    "plt.legend(fontsize=fontsize, loc='upper left')\n",
    "ax.set_ylim(0,ylim)\n",
    "plt.show()"
   ]
  },
  {
   "cell_type": "code",
   "execution_count": null,
   "metadata": {},
   "outputs": [],
   "source": [
    "def plot_proposal(fig, ax, x, pdf_target, pdf_proposal, z, q_z, p_z, accepted=None, i=None, colors=None, plot_pz=True):   \n",
    "    if colors is None:\n",
    "        colors = ['darkorange', 'navy', 'cornflowerblue']\n",
    "    ylim = max(pdf_proposal)\n",
    "    ylim += ylim*0.05\n",
    "\n",
    "    ax.cla()\n",
    "\n",
    "    if i is not None:\n",
    "        fig.suptitle('Iteration %i' % (i + 1))\n",
    "    if accepted is not None:\n",
    "        color = 'g' if accepted else 'r'\n",
    "    else:\n",
    "        color = 'k'\n",
    "        \n",
    "    # Plot prior\n",
    "    ax.plot(x, pdf_target, color=colors[0], linewidth=2.5, label='Target pdf, $p(z)$')\n",
    "    ax.plot(x, pdf_proposal, color=colors[1], linewidth=2.5, label='Proposal pdf, $q(z)$')\n",
    "\n",
    "    # Stem plot of current sample and proposal:\n",
    "    ax.plot([z]*2, [0, q_z], color=color)\n",
    "    ax.scatter(z, q_z, s=100, color=color)\n",
    "    \n",
    "    if plot_pz:\n",
    "        ax.plot([z]*2, [0, p_z], color=color, linestyle='dashed')\n",
    "        ax.scatter(z, p_z, s=200, color=color)\n",
    "\n",
    "    ax.set(xlabel='$z$', ylabel='Probability Density')\n",
    "    ax.set_ylim(0,ylim)\n",
    "    plt.legend(fontsize=fontsize, loc='upper left')\n",
    "\n",
    "    return ax"
   ]
  },
  {
   "cell_type": "code",
   "execution_count": null,
   "metadata": {},
   "outputs": [],
   "source": [
    "z = 75\n",
    "\n",
    "fig, ax = plt.subplots()\n",
    "plot_proposal(fig, ax, x, p(x), q(x), z, q(z), p(z), plot_pz=False)\n",
    "plt.legend(fontsize=fontsize, loc='upper left')\n",
    "ax.set_ylim(0,ylim)\n",
    "ax.text(z+2, q(z)*.95, '$q(\\\\tilde{z}^{(1)}) = '+str(round(q(z),3))+'$')"
   ]
  },
  {
   "cell_type": "code",
   "execution_count": null,
   "metadata": {},
   "outputs": [],
   "source": [
    "fig, ax = plt.subplots()\n",
    "plot_proposal(fig, ax, x, p(x), q(x), z, q(z), p(z), plot_pz=True)\n",
    "ax.text(z+2, p(z)*1.05, '$p(\\\\tilde{z}^{(1)}) = '+str(round(p(z),3))+'$')\n",
    "ax.text(z+2, q(z)*.95, '$q(\\\\tilde{z}^{(1)}) = '+str(round(q(z),3))+'$')\n",
    "plt.legend(fontsize=fontsize, loc='upper left')\n",
    "ax.set_ylim(0,ylim)\n",
    "\n",
    "print(p(z))\n",
    "print(np.random.uniform(0, q(z)))"
   ]
  },
  {
   "cell_type": "code",
   "execution_count": null,
   "metadata": {},
   "outputs": [],
   "source": [
    "import pylab as px\n",
    "\n",
    "def half_brace(x, beta=10.):\n",
    "    x0, x1 = x[0], x[-1]\n",
    "    y = 1/(1.+np.exp(-1*beta*(x-x0))) + 1/(1.+np.exp(-1*beta*(x-x1)))\n",
    "    return y\n"
   ]
  },
  {
   "cell_type": "code",
   "execution_count": null,
   "metadata": {},
   "outputs": [],
   "source": [
    "fig, ax = plt.subplots()\n",
    "plot_proposal(fig, ax, x, p(x), q(x), z, q(z), p(z), plot_pz=True)\n",
    "ax.text(z+2, p(z)*1.05, '$p(\\\\tilde{z}^{(1)}) = '+str(round(p(z),3))+'$')\n",
    "ax.text(z+2, q(z)*.95, '$q(\\\\tilde{z}^{(1)}) = '+str(round(q(z),3))+'$')\n",
    "plt.legend(fontsize=fontsize, loc='upper left')\n",
    "ax.set_ylim(0,ylim)\n",
    "\n",
    "xstep = 100\n",
    "ybrace = q(z) + np.linspace(0, (p(z)-q(z))/2, xstep//2)\n",
    "x0 = half_brace(ybrace, beta=1e5)\n",
    "xbrace = np.concatenate((x0, x0[::-1]))\n",
    "plt.plot(z+2 + xbrace, np.linspace(q(z), p(z), xstep), linewidth=2.5, color='k')\n",
    "ax.text(z+6, q(z) + (p(z)-q(z))/2, '${p(\\\\tilde{z}^{(1)})}/{q(\\\\tilde{z}^{(1)})} = '+str(round(p(z)/q(z),3))+'$')\n"
   ]
  },
  {
   "cell_type": "code",
   "execution_count": null,
   "metadata": {},
   "outputs": [],
   "source": [
    "fig, ax = plt.subplots()\n",
    "plot_proposal(fig, ax, x, p(x), q(x), z, q(z), p(z), plot_pz=True)\n",
    "ax.text(z+2, p(z)*1.05, '$p(\\\\tilde{z}^{(1)})$')\n",
    "ax.text(z+2, q(z)*.95, '$q(\\\\tilde{z}^{(1)})$')\n",
    "plt.legend(fontsize=fontsize, loc='upper left')\n",
    "ax.set_ylim(0,ylim)\n",
    "\n",
    "xstep = 100\n",
    "ybrace = q(z) + np.linspace(0, (p(z)-q(z))/2, xstep//2)\n",
    "x0 = half_brace(ybrace, beta=1e5)\n",
    "xbrace = np.concatenate((x0, x0[::-1]))\n",
    "plt.plot(z+2 + xbrace, np.linspace(q(z), p(z), xstep), linewidth=2.5, color='k')\n",
    "ax.text(z+6, q(z) + (p(z)-q(z))/2, '${p(\\\\tilde{z}^{(1)})}/{q(\\\\tilde{z}^{(1)})} = '+str(round(p(z)/q(z),3))+'$')\n",
    "\n",
    "# Plot second sample:\n",
    "z1 = 50\n",
    "plt.plot([z1]*2, [0, q(z1)], color='red')\n",
    "plt.scatter(z1, q(z1), s=200, color='red')\n",
    "ax.text(z1-5, p(z1)*.87, '$p(\\\\tilde{z}^{(2)})$')\n",
    "ax.text(z1-5, q(z1)*1.03, '$q(\\\\tilde{z}^{(2)})$')\n",
    "plt.plot([z1]*2, [0, p(z1)], linestyle='dashed', color='red')\n",
    "plt.scatter(z1, p(z1), s=200, color='red')\n"
   ]
  },
  {
   "cell_type": "code",
   "execution_count": null,
   "metadata": {},
   "outputs": [],
   "source": [
    "fig, ax = plt.subplots()\n",
    "plot_proposal(fig, ax, x, p(x), q(x), z, q(z), p(z), plot_pz=True)\n",
    "ax.text(z+2, p(z)*1.05, '$p(\\\\tilde{z}^{(1)})$')\n",
    "ax.text(z+2, q(z)*.95, '$q(\\\\tilde{z}^{(1)})$')\n",
    "plt.legend(fontsize=fontsize, loc='upper left')\n",
    "ax.set_ylim(0,ylim)\n",
    "\n",
    "xstep = 100\n",
    "ybrace = q(z) + np.linspace(0, (p(z)-q(z))/2, xstep//2)\n",
    "x0 = half_brace(ybrace, beta=1e5)\n",
    "xbrace = np.concatenate((x0, x0[::-1]))\n",
    "plt.plot(z+2 + xbrace, np.linspace(q(z), p(z), xstep), linewidth=2.5, color='k')\n",
    "ax.text(z+6, q(z) + (p(z)-q(z))/2, '${p(\\\\tilde{z}^{(1)})}/{q(\\\\tilde{z}^{(1)})} = '+str(round(p(z)/q(z),3))+'$')\n",
    "\n",
    "# Plot second sample:\n",
    "z1 = 50\n",
    "plt.plot([z1]*2, [0, q(z1)], color='red')\n",
    "plt.scatter(z1, q(z1), s=200, color='red')\n",
    "ax.text(z1-5, p(z1)*.87, '$p(\\\\tilde{z}^{(2)})$')\n",
    "ax.text(z1-5, q(z1)*1.03, '$q(\\\\tilde{z}^{(2)})$')\n",
    "plt.plot([z1]*2, [0, p(z1)], linestyle='dashed', color='red')\n",
    "plt.scatter(z1, p(z1), s=200, color='red')\n",
    "\n",
    "xstep = 100\n",
    "ybrace = q(z1) + np.linspace(0, (p(z1)-q(z1))/2, xstep//2)\n",
    "x0 = half_brace(ybrace, beta=1e5)\n",
    "xbrace = np.concatenate((x0, x0[::-1]))\n",
    "plt.plot(z1-6 + xbrace, np.linspace(q(z1), p(z1), xstep), linewidth=2.5, color='r')\n",
    "ax.text(z1-80, q(z1) + (p(z1)-q(z1))/2, '${p(\\\\tilde{z}^{(2)})}/{q(\\\\tilde{z}^{(2)})} = '+str(round(p(z1)/q(z1),3))+'$')"
   ]
  },
  {
   "cell_type": "markdown",
   "metadata": {},
   "source": [
    "## Example 1: Non-Markovian"
   ]
  },
  {
   "cell_type": "code",
   "execution_count": null,
   "metadata": {},
   "outputs": [],
   "source": [
    "def prior(x, x_prev, phi, q):\n",
    "    return sp.stats.norm.pdf(x, phi*x_prev, np.sqrt(q))\n",
    "\n",
    "def likelihood(y, x_traj, beta, r):\n",
    "    mean = 0\n",
    "    for k in range(1,t+1):\n",
    "        print('t: {}, k: {}'.format(t,k))\n",
    "        mean += beta**(t-k)*x_traj[k]\n",
    "    return sp.stats.norm.pdf(y, mean, np.sqrt(r)), mean"
   ]
  },
  {
   "cell_type": "markdown",
   "metadata": {},
   "source": [
    "Generate data from non-Markovian model:"
   ]
  },
  {
   "cell_type": "code",
   "execution_count": null,
   "metadata": {},
   "outputs": [],
   "source": [
    "colors = ['firebrick', 'navy', 'darkorange', 'olivedrab', 'cornflowerblue']\n",
    "\n",
    "\n",
    "n_particles = 200\n",
    "T = 100\n",
    "phi = 0.9\n",
    "q = 1\n",
    "beta = 0.5\n",
    "r = 1\n",
    "\n",
    "x = np.zeros ((T,))\n",
    "y = np.zeros((T,))\n",
    "x[0] = np.sqrt(q)*np.random.randn()\n",
    "for t in range(T):\n",
    "    x[t] = phi * x[t-1]+ np.sqrt(q) * np.random.randn()\n",
    "    for k in range(1,t+1):\n",
    "        y[t] += (beta**(t-k))*x[k]\n",
    "    y[t] += np.sqrt(r) * np.random.randn()"
   ]
  },
  {
   "cell_type": "code",
   "execution_count": null,
   "metadata": {},
   "outputs": [],
   "source": [
    "fig, ax = plt.subplots()\n",
    "plt.plot(x, label='$z_t$', color=colors[1])\n",
    "plt.plot(y, label='$x_t$', color=colors[0], marker='o')\n",
    "plt.xlabel('Time index, $t$')\n",
    "plt.ylabel('Signal amplitude')\n",
    "plt.legend(fontsize=fontsize, loc='upper left')\n",
    "ax.set_xlim(0,T)\n",
    "ylim = ax.get_ylim()"
   ]
  },
  {
   "cell_type": "markdown",
   "metadata": {},
   "source": [
    "Sample from prior:\n",
    "\n",
    "$w(\\mathbf{z}_{1:t}) = w(\\mathbf{z}_{1:t-1})\\, p(y_t\\,|\\,\\mathbf{x}_{1:t})$"
   ]
  },
  {
   "cell_type": "code",
   "execution_count": null,
   "metadata": {},
   "outputs": [],
   "source": [
    "def SIS(y, q, r, beta, phi, T, N):\n",
    "    logw = 1/N*np.ones((T,N))\n",
    "    mu = 0\n",
    "    samples = np.zeros((T,N))\n",
    "    lik_mean = np.zeros((N,))\n",
    "    for t in range(T):\n",
    "        # Insert code here. Hint:\n",
    "        # samples[t,:] = ?\n",
    "        # lik_mean = ?\n",
    "        # logw[t,:] = ?\n",
    "        \n",
    "    return samples, np.exp(logw)"
   ]
  },
  {
   "cell_type": "code",
   "execution_count": null,
   "metadata": {},
   "outputs": [],
   "source": [
    "SIS_samples, SIS_weights = SIS(y, q, r, beta, phi, T, 1000000)"
   ]
  },
  {
   "cell_type": "markdown",
   "metadata": {},
   "source": [
    "### Point Estimation"
   ]
  },
  {
   "cell_type": "code",
   "execution_count": null,
   "metadata": {},
   "outputs": [],
   "source": [
    "fig, ax = plt.subplots()\n",
    "plt.plot(x, label='$z_t$', color=colors[1])\n",
    "plt.plot(y, label='$x_t$', color=colors[0], marker='o')\n",
    "\n",
    "# MAP estimates:\n",
    "MAP_SIS = np.zeros((T,))\n",
    "for t in range(T):\n",
    "    MAP_SIS[t] = SIS_weights[t,:].transpose() @ SIS_samples[t,:]\n",
    "plt.plot(MAP_SIS, label='$\\hat{z}_t^{SIS}$', color=colors[2], linewidth=2.5, linestyle='dashed')\n",
    "\n",
    "plt.xlabel('Time index, $t$')\n",
    "plt.ylabel('Signal amplitude')\n",
    "ax.set_xlim(0,T)\n",
    "plt.legend(fontsize=fontsize, loc='upper left')"
   ]
  },
  {
   "cell_type": "markdown",
   "metadata": {},
   "source": [
    "### Weight degeneracy"
   ]
  },
  {
   "cell_type": "code",
   "execution_count": null,
   "metadata": {},
   "outputs": [],
   "source": [
    "SIS_samples, SIS_weights = SIS(y, q, r, beta, phi, T, n_particles)\n",
    "\n",
    "fig, ax = plt.subplots()\n",
    "colorwheel = [plt.cm.viridis(i) for i in np.linspace(0, 1, n_particles)]\n",
    "ax.set_prop_cycle(cycler('color', colorwheel))\n",
    "h = []\n",
    "for n in range(n_particles):\n",
    "    h = plt.scatter(np.linspace(0,T, T), [n]*T, s=SIS_weights[:,n]*1000)\n",
    "plt.xlabel('Time index, $t$')\n",
    "plt.ylabel('Particle index, $\\ell$')\n",
    "ax.set_xlim(0,T)\n",
    "ax.set_ylim(0,n_particles)\n",
    "ax.set_xlim(-1,T)\n",
    "ax.set_ylim(-1,n_particles)\n",
    "xticks = ax.get_xticks()\n",
    "yticks = ax.get_yticks()\n",
    "ax.set_xticks(xticks[1:-1])\n",
    "ax.set_yticks(yticks[1:-1])"
   ]
  },
  {
   "cell_type": "markdown",
   "metadata": {},
   "source": [
    "### Effective Sample Size"
   ]
  },
  {
   "cell_type": "code",
   "execution_count": null,
   "metadata": {},
   "outputs": [],
   "source": [
    "# Compute effective sample size here:\n",
    "# ESS_SIS = ?\n",
    "\n",
    "fig, ax = plt.subplots()\n",
    "plt.plot(np.linspace(0,T-1,T), ESS_SIS, color=colors[0], marker='o', label='ESS')\n",
    "plt.plot([0, T-1], [n_particles]*2, label='Number of particles, $L$', color='k', linestyle='dashed')\n",
    "plt.xlabel('Time index, $t$')\n",
    "plt.ylabel('Number of particles, $\\ell$')\n",
    "ax.set_xlim(0,T)\n",
    "ax.set_ylim(0, max(np.max(ESS_SIS), n_particles)*1.05)\n",
    "plt.legend(fontsize=fontsize)"
   ]
  },
  {
   "cell_type": "markdown",
   "metadata": {},
   "source": [
    "## Sequential Monte Carlo"
   ]
  },
  {
   "cell_type": "code",
   "execution_count": null,
   "metadata": {},
   "outputs": [],
   "source": [
    "def systematic_resampling(w):\n",
    "    # Insert code for systematic resampling here. \n",
    "    return ind"
   ]
  },
  {
   "cell_type": "code",
   "execution_count": null,
   "metadata": {},
   "outputs": [],
   "source": [
    "w = np.random.rand(10,)\n",
    "ind = systematic_resampling(w)"
   ]
  },
  {
   "cell_type": "code",
   "execution_count": null,
   "metadata": {},
   "outputs": [],
   "source": [
    "def SIR(y, q, r, beta, phi, T, N, ):\n",
    "    logw = 1/N*np.ones((T,N))\n",
    "    logw_raw = 1/N*np.ones((T,N))\n",
    "    mu = 0\n",
    "    samples = np.zeros((T,N))\n",
    "    resampled_path = np.zeros((T,N))\n",
    "    lik_mean = np.zeros((N,))\n",
    "    for t in range(T):        \n",
    "        # Insert code here. Hint:\n",
    "        # samples[t,:] = ?\n",
    "        # lik_mean = ?\n",
    "        # logw[t,:] = ?\n",
    "        # resampled_path[t,:]\n",
    "                \n",
    "    return samples, np.exp(logw_raw), np.exp(logw), resampled_path"
   ]
  },
  {
   "cell_type": "code",
   "execution_count": null,
   "metadata": {},
   "outputs": [],
   "source": [
    "SIR_samples, _, SIR_weights, resampled_path = SIR(y, q, r, beta, phi, T, 10000)"
   ]
  },
  {
   "cell_type": "markdown",
   "metadata": {},
   "source": [
    "### Point estimation"
   ]
  },
  {
   "cell_type": "code",
   "execution_count": null,
   "metadata": {},
   "outputs": [],
   "source": [
    "plot_include = ['z', 'x', 'SIS', 'SIR']\n",
    "\n",
    "# SIR MAP estimate:\n",
    "MAP_SIR = np.zeros((T,))\n",
    "var_SIR = np.zeros((T,))\n",
    "for t in range(T):\n",
    "    MAP_SIR[t] = SIR_weights[t,:].transpose() @ SIR_samples[t,:]\n",
    "\n",
    "ylim = [np.min([MAP_SIR,MAP_SIS,x,y])*1.05, np.max([MAP_SIR,MAP_SIS,x,y])*1.05]\n",
    "xlim = [0, T-1]    \n",
    "\n",
    "for includes in range(1,len(plot_include)+1):\n",
    "    fig, ax = plt.subplots()\n",
    "    \n",
    "    if 'z' in plot_include[:includes]:\n",
    "        plt.plot(x, label='$z_t$', color=colors[1])\n",
    "    if 'x' in plot_include[:includes]:\n",
    "        plt.plot(y, label='$x_t$', color=colors[0], marker='o')\n",
    "        # plt.scatter(np.linspace(0,T-1,T), y, label='$x_t$')\n",
    "    if 'SIR' in plot_include[:includes]:\n",
    "        plt.plot(MAP_SIR, label='$\\hat{z}_t^{SIR}$', linewidth=2.5, color=colors[3])\n",
    "    if 'SIS' in plot_include[:includes]:\n",
    "        plt.plot(MAP_SIS, label='$\\hat{z}_t^{SIS}$', linewidth=2.5, linestyle='dashed', color=colors[2])\n",
    "\n",
    "    plt.legend(fontsize=fontsize, loc='lower left')\n",
    "    plt.xlabel('Time index, $t$')\n",
    "    plt.ylabel('Signal amplitude')\n",
    "    ax.set_xlim(xlim)\n",
    "    ax.set_ylim(ylim)\n"
   ]
  },
  {
   "cell_type": "code",
   "execution_count": null,
   "metadata": {},
   "outputs": [],
   "source": [
    "plot_include = ['SIS', 'SIR']\n",
    "\n",
    "for includes in range(1,len(plot_include)+1):\n",
    "    fig, ax = plt.subplots()\n",
    "    if 'SIR' in plot_include[:includes]:\n",
    "        plt.plot(np.abs(x-MAP_SIR)**2, color=colors[3], linewidth=2.5, label='SIR')\n",
    "    if 'SIS' in plot_include[:includes]:\n",
    "        plt.plot(np.abs(x-MAP_SIS)**2, color=colors[2], linestyle='dashed', linewidth=2.5, label='SIS')\n",
    "    plt.xlabel('Time index, $t$')\n",
    "    plt.ylabel('Error $|z_t - \\hat{z}_t|^2$')\n",
    "    plt.legend(fontsize=fontsize)\n",
    "    ax.set_xlim(0, T-1)"
   ]
  },
  {
   "cell_type": "code",
   "execution_count": null,
   "metadata": {},
   "outputs": [],
   "source": [
    "SIR_samples, _, SIR_weights, resampled_path = SIR(y, q, r, beta, phi, T, n_particles)\n",
    "\n",
    "fig, ax = plt.subplots()\n",
    "colorwheel = [plt.cm.viridis(i) for i in np.linspace(0, 1, n_particles)]\n",
    "ax.set_prop_cycle(cycler('color', colorwheel))\n",
    "h = []\n",
    "for n in range(n_particles):\n",
    "    h = plt.scatter(np.linspace(0,T, T), [n]*T, s=SIR_weights[:,n]*1000)\n",
    "plt.xlabel('Time index, $t$')\n",
    "plt.ylabel('Particle index, $\\ell$')\n",
    "ax.set_xlim(0,T)\n",
    "ax.set_ylim(0,n_particles)\n",
    "ax.set_xlim(-1,T)\n",
    "ax.set_ylim(-1,n_particles)\n",
    "xticks = ax.get_xticks()\n",
    "yticks = ax.get_yticks()\n",
    "ax.set_xticks(xticks[1:-1])\n",
    "ax.set_yticks(yticks[1:-1])"
   ]
  },
  {
   "cell_type": "markdown",
   "metadata": {},
   "source": [
    "### Effective Sample Size (ESS)"
   ]
  },
  {
   "cell_type": "code",
   "execution_count": null,
   "metadata": {},
   "outputs": [],
   "source": [
    "# Evaluate ESS here:\n",
    "# ESS_SIR = ?\n",
    "\n",
    "plot_includes = ['L', 'SIS', 'SIR']\n",
    "\n",
    "for includes in range(1,len(plot_includes)+1):\n",
    "    fig, ax = plt.subplots()\n",
    "    if 'L' in plot_includes[:includes]:\n",
    "        plt.plot([0, T-1], [n_particles]*2, label='Number of particles, $L$', color='k', linestyle='dashed')\n",
    "    if 'SIS' in plot_includes[:includes]:\n",
    "        plt.plot(np.linspace(0,T-1,T), ESS_SIS, color=colors[0], marker='o', label='ESS SIS')\n",
    "    if 'SIR' in plot_includes[:includes]:\n",
    "        plt.plot(np.linspace(0,T-1,T), ESS_SIR, color=colors[1], marker='*', markersize=10, label='ESS SIR')\n",
    "    plt.xlabel('Time index, $t$')\n",
    "    plt.ylabel('Number of particles, $\\ell$')\n",
    "    ax.set_xlim(0,T)\n",
    "    ax.set_ylim(0, max(np.max(ESS_SIR), n_particles)*1.05)\n",
    "    plt.legend(fontsize=fontsize, loc = 'lower right')\n",
    "    "
   ]
  },
  {
   "cell_type": "markdown",
   "metadata": {},
   "source": [
    "### Path Degeneracy of SIR"
   ]
  },
  {
   "cell_type": "code",
   "execution_count": null,
   "metadata": {},
   "outputs": [],
   "source": [
    "T_path = 20\n",
    "n_particles_path = 5\n",
    "SIR_samples, _, SIR_weights, resampled_path = SIR(y, q, r, beta, phi, T_path, n_particles_path)\n",
    "\n",
    "\n",
    "fig, ax = plt.subplots()\n",
    "colorwheel = [plt.cm.viridis(i) for i in np.linspace(0, 1, n_particles_path)]\n",
    "ax.set_prop_cycle(cycler('color', colorwheel))\n",
    "h = []\n",
    "for n in range(n_particles_path):\n",
    "    h = plt.scatter(np.linspace(0,T_path-1, T_path), [n]*T_path, s=SIR_weights[:,n]*1000)\n",
    "    for t in range(0,T_path-1):\n",
    "        plt.plot([t,t+1], [resampled_path[t,n],n], 'k')\n",
    "plt.xlabel('Time index, $t$')\n",
    "plt.ylabel('Particle index, $\\ell$')\n",
    "ax.set_xlim(-1,T_path)\n",
    "ax.set_ylim(-1,n_particles_path)\n",
    "xticks = ax.get_xticks()\n",
    "yticks = ax.get_yticks()\n",
    "ax.set_xticks(xticks[1:-1])\n",
    "ax.set_yticks(yticks[1:-1])"
   ]
  },
  {
   "cell_type": "code",
   "execution_count": null,
   "metadata": {},
   "outputs": [],
   "source": []
  }
 ],
 "metadata": {
  "kernelspec": {
   "display_name": "Python 3 (ipykernel)",
   "language": "python",
   "name": "python3"
  },
  "language_info": {
   "codemirror_mode": {
    "name": "ipython",
    "version": 3
   },
   "file_extension": ".py",
   "mimetype": "text/x-python",
   "name": "python",
   "nbconvert_exporter": "python",
   "pygments_lexer": "ipython3",
   "version": "3.8.5"
  }
 },
 "nbformat": 4,
 "nbformat_minor": 4
}
